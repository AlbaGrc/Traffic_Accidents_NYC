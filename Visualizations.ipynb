{
 "cells": [
  {
   "cell_type": "markdown",
   "metadata": {},
   "source": [
    "# ANALYTICS\n",
    "\n",
    "To create effective visualizations that clearly explain the data, we will employ various analytical techniques, including dimensionality reduction and data modeling, and experiment with different chart types to extract insights.\n",
    "\n",
    "First, we need to make sure we have **accidents_preprocessed.csv** file inside **data** folder, the dataset we will work with, which contains information about motor crashes and colissions in New York city during summer months of 2018. This file is already preprocessed so not data issues should arise, other than aggregations for different data representations. For more information on how the dataset was preprocessed reach preprocessing.ipynb file.\n",
    "\n",
    "The objective of this part is to understand key issues regarding traffic accidents, such as which boroughs suffer most accidents, proportion between injuries and fatalities, which weather conditions are related to a higher number of accidents, which vehicle type is more prone to suffer accidents, etc. As well as new insights discovered while analyzing data.\n",
    "\n",
    "Fot this part it will be used Python 3.12, although other versions may work as well. As for the charts it will be used altair libraries, plus scikit-learn libraries for dimensionality reduction, so make sure it is installed on your system when executing this code.\n",
    "\n",
    "*Be aware all plots' visualization in this file have been commented to make it less heavy, but can be easly be uncommented and executed for its visualization."
   ]
  },
  {
   "cell_type": "code",
   "execution_count": 35,
   "metadata": {},
   "outputs": [],
   "source": [
    "import pandas as pd\n",
    "import numpy as np\n",
    "import altair as alt"
   ]
  },
  {
   "cell_type": "code",
   "execution_count": 36,
   "metadata": {},
   "outputs": [
    {
     "data": {
      "text/plain": [
       "DataTransformerRegistry.enable('default')"
      ]
     },
     "execution_count": 36,
     "metadata": {},
     "output_type": "execute_result"
    }
   ],
   "source": [
    "alt.data_transformers.disable_max_rows()"
   ]
  },
  {
   "cell_type": "code",
   "execution_count": 37,
   "metadata": {},
   "outputs": [],
   "source": [
    "df = pd.read_csv('data/accidents_preprocessed.csv')"
   ]
  },
  {
   "cell_type": "markdown",
   "metadata": {},
   "source": [
    "Dropdown and interactive selections for visualizations"
   ]
  },
  {
   "cell_type": "code",
   "execution_count": 38,
   "metadata": {},
   "outputs": [],
   "source": [
    "# Interactive dropdown options\n",
    "options_month = ['June', 'July', 'August', 'September']\n",
    "input_dropdown_month = alt.binding_select(\n",
    "    options=[None] + options_month, labels=['All'] + options_month, name='Month: '\n",
    ")\n",
    "selection_month = alt.param(name='SelectMonth', value=None, bind=input_dropdown_month)"
   ]
  },
  {
   "cell_type": "code",
   "execution_count": 39,
   "metadata": {},
   "outputs": [
    {
     "name": "stderr",
     "output_type": "stream",
     "text": [
      "/Library/Frameworks/Python.framework/Versions/3.12/lib/python3.12/site-packages/altair/vegalite/v5/api.py:394: AltairDeprecationWarning: The value of 'empty' should be True or False.\n",
      "  warnings.warn(\n"
     ]
    }
   ],
   "source": [
    "selection_vehicle = alt.selection_point(fields=['VEHICLE TYPE'], name=\"SelectVehicle\", empty=\"all\")\n",
    "selection_borough = alt.selection_point(fields=['BOROUGH'], name=\"SelectBorough\", empty=\"all\")\n",
    "selection_weather = alt.selection_point(fields=['WEATHER'], name=\"SelectWeather\", empty=\"all\")\n",
    "selection_point = alt.selection_point(fields=['HOUR'], name='SelectPoint', empty='all')"
   ]
  },
  {
   "cell_type": "markdown",
   "metadata": {},
   "source": [
    "## DIMENSIONALITY REDUCTION"
   ]
  },
  {
   "cell_type": "markdown",
   "metadata": {},
   "source": [
    "First, relations among variables and observations will be analyzed with dimensionallity reduction techniques"
   ]
  },
  {
   "cell_type": "code",
   "execution_count": 40,
   "metadata": {},
   "outputs": [],
   "source": [
    "from sklearn.cluster import KMeans\n",
    "from sklearn.preprocessing import StandardScaler, OrdinalEncoder\n",
    "from sklearn.decomposition import PCA"
   ]
  },
  {
   "cell_type": "code",
   "execution_count": 41,
   "metadata": {},
   "outputs": [],
   "source": [
    "selected_columns = ['BOROUGH', 'ZIP CODE', 'LATITUDE', 'LONGITUDE', \n",
    "                    'CONTRIBUTING FACTOR', 'VEHICLE TYPE', 'MONTH', \n",
    "                    'HOUR', 'WEEK_DAY', 'DAY', 'WEATHER', \n",
    "                    'TOTAL_INJURIES', 'TOTAL_DEATHS']\n",
    "\n",
    "categorical_cols = ['BOROUGH', 'CONTRIBUTING FACTOR', 'VEHICLE TYPE', 'MONTH', 'WEEK_DAY', 'WEATHER']\n",
    "\n",
    "df_pca = df[selected_columns].dropna().copy()\n",
    "\n",
    "df_pca['OriginalIndex'] = df_pca.index\n",
    "\n",
    "for c in categorical_cols:\n",
    "    df_pca[c] = df_pca[c].astype(str)"
   ]
  },
  {
   "cell_type": "code",
   "execution_count": 42,
   "metadata": {},
   "outputs": [],
   "source": [
    "# Ordinal encoding of categorical variables\n",
    "encoder = OrdinalEncoder()\n",
    "df_pca[categorical_cols] = encoder.fit_transform(df_pca[categorical_cols])\n",
    "\n",
    "# Scaling\n",
    "scaler = StandardScaler()\n",
    "X_scaled = scaler.fit_transform(df_pca.drop(columns=['OriginalIndex']))\n",
    "\n",
    "# Fit PCA\n",
    "pca = PCA()\n",
    "X_pca = pca.fit_transform(X_scaled)"
   ]
  },
  {
   "cell_type": "code",
   "execution_count": 43,
   "metadata": {},
   "outputs": [
    {
     "data": {
      "text/html": [
       "\n",
       "<style>\n",
       "  #altair-viz-47bc03ce00b6445a888303b3b89c0193.vega-embed {\n",
       "    width: 100%;\n",
       "    display: flex;\n",
       "  }\n",
       "\n",
       "  #altair-viz-47bc03ce00b6445a888303b3b89c0193.vega-embed details,\n",
       "  #altair-viz-47bc03ce00b6445a888303b3b89c0193.vega-embed details summary {\n",
       "    position: relative;\n",
       "  }\n",
       "</style>\n",
       "<div id=\"altair-viz-47bc03ce00b6445a888303b3b89c0193\"></div>\n",
       "<script type=\"text/javascript\">\n",
       "  var VEGA_DEBUG = (typeof VEGA_DEBUG == \"undefined\") ? {} : VEGA_DEBUG;\n",
       "  (function(spec, embedOpt){\n",
       "    let outputDiv = document.currentScript.previousElementSibling;\n",
       "    if (outputDiv.id !== \"altair-viz-47bc03ce00b6445a888303b3b89c0193\") {\n",
       "      outputDiv = document.getElementById(\"altair-viz-47bc03ce00b6445a888303b3b89c0193\");\n",
       "    }\n",
       "    const paths = {\n",
       "      \"vega\": \"https://cdn.jsdelivr.net/npm/vega@5?noext\",\n",
       "      \"vega-lib\": \"https://cdn.jsdelivr.net/npm/vega-lib?noext\",\n",
       "      \"vega-lite\": \"https://cdn.jsdelivr.net/npm/vega-lite@5.15.1?noext\",\n",
       "      \"vega-embed\": \"https://cdn.jsdelivr.net/npm/vega-embed@6?noext\",\n",
       "    };\n",
       "\n",
       "    function maybeLoadScript(lib, version) {\n",
       "      var key = `${lib.replace(\"-\", \"\")}_version`;\n",
       "      return (VEGA_DEBUG[key] == version) ?\n",
       "        Promise.resolve(paths[lib]) :\n",
       "        new Promise(function(resolve, reject) {\n",
       "          var s = document.createElement('script');\n",
       "          document.getElementsByTagName(\"head\")[0].appendChild(s);\n",
       "          s.async = true;\n",
       "          s.onload = () => {\n",
       "            VEGA_DEBUG[key] = version;\n",
       "            return resolve(paths[lib]);\n",
       "          };\n",
       "          s.onerror = () => reject(`Error loading script: ${paths[lib]}`);\n",
       "          s.src = paths[lib];\n",
       "        });\n",
       "    }\n",
       "\n",
       "    function showError(err) {\n",
       "      outputDiv.innerHTML = `<div class=\"error\" style=\"color:red;\">${err}</div>`;\n",
       "      throw err;\n",
       "    }\n",
       "\n",
       "    function displayChart(vegaEmbed) {\n",
       "      vegaEmbed(outputDiv, spec, embedOpt)\n",
       "        .catch(err => showError(`Javascript Error: ${err.message}<br>This usually means there's a typo in your chart specification. See the javascript console for the full traceback.`));\n",
       "    }\n",
       "\n",
       "    if(typeof define === \"function\" && define.amd) {\n",
       "      requirejs.config({paths});\n",
       "      require([\"vega-embed\"], displayChart, err => showError(`Error loading script: ${err.message}`));\n",
       "    } else {\n",
       "      maybeLoadScript(\"vega\", \"5\")\n",
       "        .then(() => maybeLoadScript(\"vega-lite\", \"5.15.1\"))\n",
       "        .then(() => maybeLoadScript(\"vega-embed\", \"6\"))\n",
       "        .catch(showError)\n",
       "        .then(() => displayChart(vegaEmbed));\n",
       "    }\n",
       "  })({\"config\": {\"view\": {\"continuousWidth\": 300, \"continuousHeight\": 300}}, \"data\": {\"name\": \"data-468feae0bf1142f62646d02e35895a1c\"}, \"mark\": {\"type\": \"line\", \"point\": true}, \"encoding\": {\"tooltip\": [{\"field\": \"Component\", \"type\": \"quantitative\"}, {\"field\": \"Explained_Variance\", \"type\": \"quantitative\"}], \"x\": {\"field\": \"Component\", \"title\": \"Componente\", \"type\": \"ordinal\"}, \"y\": {\"field\": \"Explained_Variance\", \"title\": \"Varianza Explicada\", \"type\": \"quantitative\"}}, \"height\": 300, \"title\": \"Scree Plot\", \"width\": 400, \"$schema\": \"https://vega.github.io/schema/vega-lite/v5.15.1.json\", \"datasets\": {\"data-468feae0bf1142f62646d02e35895a1c\": [{\"Component\": 1, \"Explained_Variance\": 0.1164498545229589}, {\"Component\": 2, \"Explained_Variance\": 0.08667403751744095}, {\"Component\": 3, \"Explained_Variance\": 0.08314394758370049}, {\"Component\": 4, \"Explained_Variance\": 0.07996951096824174}, {\"Component\": 5, \"Explained_Variance\": 0.07970915500641529}, {\"Component\": 6, \"Explained_Variance\": 0.0778194785332637}, {\"Component\": 7, \"Explained_Variance\": 0.07631739142366267}, {\"Component\": 8, \"Explained_Variance\": 0.07610552189596949}, {\"Component\": 9, \"Explained_Variance\": 0.07551648852321016}, {\"Component\": 10, \"Explained_Variance\": 0.07438507266567586}, {\"Component\": 11, \"Explained_Variance\": 0.0692723696358148}, {\"Component\": 12, \"Explained_Variance\": 0.0682308417533137}, {\"Component\": 13, \"Explained_Variance\": 0.03640632997033225}]}}, {\"mode\": \"vega-lite\"});\n",
       "</script>"
      ],
      "text/plain": [
       "alt.Chart(...)"
      ]
     },
     "execution_count": 43,
     "metadata": {},
     "output_type": "execute_result"
    }
   ],
   "source": [
    "# Get explanations\n",
    "explained_var = pca.explained_variance_ratio_\n",
    "\n",
    "# Scree data\n",
    "scree_data = pd.DataFrame({\n",
    "    'Component': np.arange(1, len(explained_var)+1),\n",
    "    'Explained_Variance': explained_var\n",
    "})\n",
    "\n",
    "scree_plot = alt.Chart(scree_data).mark_line(point=True).encode(\n",
    "    x=alt.X('Component:O', title='Componente'),\n",
    "    y=alt.Y('Explained_Variance:Q', title='Varianza Explicada'),\n",
    "    tooltip=['Component', 'Explained_Variance']\n",
    ").properties(\n",
    "    title='Scree Plot',\n",
    "    width=400,\n",
    "    height=300\n",
    ")\n",
    "\n",
    "scree_plot"
   ]
  },
  {
   "cell_type": "markdown",
   "metadata": {},
   "source": [
    "From the scree plot we can see principal components are not very informative, and that most important components are the first two"
   ]
  },
  {
   "cell_type": "code",
   "execution_count": 44,
   "metadata": {},
   "outputs": [],
   "source": [
    "df_pca['PC1'] = X_pca[:, 0]\n",
    "df_pca['PC2'] = X_pca[:, 1]\n",
    "\n",
    "#Applying KMeans\n",
    "kmeans = KMeans(n_clusters=4, random_state=42) # cluster size = 4 has been decided after thorough analysis taking into account the elbow method and relation to categories\n",
    "df_pca['cluster'] = kmeans.fit_predict(X_pca[:, :2])"
   ]
  },
  {
   "cell_type": "code",
   "execution_count": 45,
   "metadata": {},
   "outputs": [],
   "source": [
    "# merge with original data\n",
    "df_pca_coords = df_pca[['OriginalIndex', 'PC1', 'PC2', 'cluster']]\n",
    "\n",
    "df = df.merge(\n",
    "    df_pca_coords,\n",
    "    how='left',\n",
    "    left_index=True,           \n",
    "    right_on='OriginalIndex'\n",
    ")\n",
    "\n",
    "df.drop(columns=['OriginalIndex'], inplace=True)"
   ]
  },
  {
   "cell_type": "code",
   "execution_count": 46,
   "metadata": {},
   "outputs": [
    {
     "name": "stdout",
     "output_type": "stream",
     "text": [
      "Loading factors:\n",
      "                          PC1       PC2       PC3       PC4       PC5  \\\n",
      "BOROUGH             -0.648679 -0.377191  0.148980 -0.026039  0.141196   \n",
      "ZIP CODE             0.136186 -0.277569  0.100594  0.223353 -0.174573   \n",
      "LATITUDE             0.839607  0.002042  0.042861  0.028535  0.060385   \n",
      "LONGITUDE            0.550999 -0.558048  0.194689 -0.001324  0.113764   \n",
      "CONTRIBUTING FACTOR  0.240717  0.287894 -0.151088 -0.412035 -0.225774   \n",
      "VEHICLE TYPE         0.045652  0.566240 -0.131415  0.392310  0.265113   \n",
      "MONTH               -0.007865 -0.048875  0.264923 -0.309406  0.548209   \n",
      "HOUR                -0.060824 -0.181642  0.042339  0.272427 -0.436564   \n",
      "WEEK_DAY            -0.013085  0.164494  0.608979  0.114960 -0.136521   \n",
      "DAY                 -0.011523  0.177839  0.152489  0.187277 -0.312603   \n",
      "WEATHER              0.001402  0.284646  0.699720  0.005107  0.043518   \n",
      "TOTAL_INJURIES       0.037795 -0.125840 -0.067181  0.634383  0.175201   \n",
      "TOTAL_DEATHS         0.021741  0.040027 -0.092344  0.209412  0.455965   \n",
      "\n",
      "                          PC6       PC7       PC8       PC9      PC10  \\\n",
      "BOROUGH              0.232504 -0.123132  0.020275  0.011515  0.108004   \n",
      "ZIP CODE            -0.028584  0.441812  0.330866  0.585914 -0.397398   \n",
      "LATITUDE             0.080694 -0.164814 -0.127566 -0.096578 -0.115488   \n",
      "LONGITUDE            0.215572 -0.138099 -0.000357 -0.056010  0.165797   \n",
      "CONTRIBUTING FACTOR -0.224636  0.306471  0.283474  0.016705  0.423585   \n",
      "VEHICLE TYPE         0.085559 -0.153270 -0.167976  0.195622 -0.227642   \n",
      "MONTH               -0.255682  0.441268 -0.288380 -0.099202 -0.190675   \n",
      "HOUR                -0.500800  0.010283 -0.110115 -0.511207 -0.314327   \n",
      "WEEK_DAY            -0.208766 -0.377600  0.259555  0.163786  0.180678   \n",
      "DAY                  0.652339  0.421387 -0.043810 -0.323375  0.043851   \n",
      "WEATHER              0.000083  0.149657 -0.035478 -0.077447  0.013614   \n",
      "TOTAL_INJURIES      -0.246421  0.281760 -0.194166  0.063795  0.590082   \n",
      "TOTAL_DEATHS        -0.001069  0.037031  0.742374 -0.417912 -0.085143   \n",
      "\n",
      "                         PC11      PC12      PC13  \n",
      "BOROUGH              0.231357  0.367437  0.352395  \n",
      "ZIP CODE             0.040683  0.047294  0.057812  \n",
      "LATITUDE            -0.035413 -0.026179  0.462838  \n",
      "LONGITUDE            0.197367  0.293748 -0.335766  \n",
      "CONTRIBUTING FACTOR  0.216756  0.398004  0.075988  \n",
      "VEHICLE TYPE         0.211486  0.483889 -0.088595  \n",
      "MONTH               -0.306436  0.218240 -0.011385  \n",
      "HOUR                 0.125087  0.240639  0.002039  \n",
      "WEEK_DAY            -0.467928  0.195229  0.000055  \n",
      "DAY                 -0.280777  0.147583 -0.008020  \n",
      "WEATHER              0.552320 -0.304205 -0.004794  \n",
      "TOTAL_INJURIES      -0.032462 -0.095262  0.069939  \n",
      "TOTAL_DEATHS        -0.000903 -0.056490  0.008368  \n"
     ]
    }
   ],
   "source": [
    "loadings = pca.components_.T * np.sqrt(pca.explained_variance_)\n",
    "feature_names = df_pca.drop(columns=['OriginalIndex','PC1','PC2','cluster']).columns\n",
    "loading_df = pd.DataFrame(\n",
    "    loadings,\n",
    "    index=feature_names,\n",
    "    columns=[f'PC{i}' for i in range(1, len(pca.components_)+1)]\n",
    ")\n",
    "\n",
    "loading_2d = loading_df[['PC1', 'PC2']].reset_index()\n",
    "loading_2d.columns = ['Variable', 'PC1', 'PC2']\n",
    "arrow_scale = 2.0\n",
    "loading_2d['x_end'] = loading_2d['PC1'] * arrow_scale\n",
    "loading_2d['y_end'] = loading_2d['PC2'] * arrow_scale\n",
    "\n",
    "print(\"Loading factors:\")\n",
    "print(loading_df)"
   ]
  },
  {
   "cell_type": "markdown",
   "metadata": {},
   "source": [
    "We can see that principal component 1 is highly influenced by the borough, latitude, longitude. Second principal component is influenced by vehicle type, weather, contributing factor, borough abd zip code. Finally, principal component 3 does not rely that much on location but focuses more on weather and the week's day"
   ]
  },
  {
   "cell_type": "code",
   "execution_count": 47,
   "metadata": {},
   "outputs": [],
   "source": [
    "# for a posterior plot of loading factors in PCA scatter plot\n",
    "line_data = []\n",
    "for i, row in loading_2d.iterrows():\n",
    "    line_data.append({\n",
    "        'Variable': row['Variable'], 'x': 0, 'y': 0\n",
    "    })\n",
    "    line_data.append({\n",
    "        'Variable': row['Variable'], 'x': row['x_end'], 'y': row['y_end']\n",
    "    })\n",
    "line_df = pd.DataFrame(line_data)"
   ]
  },
  {
   "cell_type": "code",
   "execution_count": 48,
   "metadata": {},
   "outputs": [],
   "source": [
    "points = alt.Chart(df).mark_circle(size=40).encode(\n",
    "    x=alt.X('PC1:Q', title='PC1'),\n",
    "    y=alt.Y('PC2:Q', title='PC2'),\n",
    "    color=alt.condition(selection_vehicle & selection_borough & selection_weather & selection_point, \n",
    "                        'cluster:N', \n",
    "                        alt.value('lightgray')),\n",
    ").add_params(\n",
    "    selection_weather, selection_month, selection_point, selection_vehicle, selection_borough\n",
    ").transform_filter(\n",
    "    (alt.datum.MONTH == selection_month) | (selection_month == None)\n",
    "    \n",
    ").properties(\n",
    "    width=600,\n",
    "    height=400,\n",
    "    title='Biplot PCA with Clusters'\n",
    ")\n",
    "\n",
    "# Loading factors\n",
    "lines = alt.Chart(line_df).mark_line(color='black').encode(\n",
    "    x='x:Q',\n",
    "    y='y:Q',\n",
    "    detail='Variable:N'\n",
    ")\n",
    "\n",
    "arrow_heads = alt.Chart(loading_2d).mark_point(color='black').encode(\n",
    "    x='x_end:Q',\n",
    "    y='y_end:Q',\n",
    "    tooltip=['Variable']\n",
    ")\n",
    "\n",
    "text = alt.Chart(loading_2d).mark_text(\n",
    "    align='left',\n",
    "    dx=5,\n",
    "    dy=-5,\n",
    "    color='black'\n",
    ").encode(\n",
    "    x='x_end:Q',\n",
    "    y='y_end:Q',\n",
    "    text='Variable'\n",
    ")\n",
    "\n",
    "biplot = (points + lines + arrow_heads + text)\n",
    "#biplot"
   ]
  },
  {
   "cell_type": "code",
   "execution_count": 49,
   "metadata": {},
   "outputs": [],
   "source": [
    "# Visualize interaction of PCA scatterplot with different variables\n",
    "def create_biplot(color_column, color_title):\n",
    "    points = alt.Chart(df_pca).mark_circle(size=40).encode(\n",
    "        x=alt.X('PC1:Q', title='PC1'),\n",
    "        y=alt.Y('PC2:Q', title='PC2'),\n",
    "        color=alt.Color(color_column, title=color_title)\n",
    "    ).properties(\n",
    "        width=400,\n",
    "        height=300\n",
    "    ).interactive()\n",
    "    \n",
    "    return points + lines + arrow_heads + text\n",
    "\n",
    "biplot_borough = create_biplot('BOROUGH:N', 'Borough')\n",
    "biplot_vehicle = create_biplot('VEHICLE TYPE:N', 'Vehicle Type')\n",
    "biplot_weather = create_biplot('WEATHER:N', 'Weather')\n",
    "biplot_factor  = create_biplot('CONTRIBUTING FACTOR:N', 'Contributing Factor')\n",
    "\n",
    "final_chart = alt.vconcat(\n",
    "    alt.hconcat(biplot_borough, biplot_vehicle),\n",
    "    alt.hconcat(biplot_weather, biplot_factor)\n",
    ").properties(title='Biplots PCA coloreados por distintas columnas')\n",
    "\n",
    "#final_chart\n"
   ]
  },
  {
   "cell_type": "markdown",
   "metadata": {},
   "source": [
    "We can see that it is the Borough variable the one to better cluster observations in 4 groups as, although there are 5 boroughs, borough 1 and 2 (orange and red) are mixed, with observations falling within the same group. Whereas for vehicle type, weather and contributing factor there is no clear differences among observations."
   ]
  },
  {
   "cell_type": "code",
   "execution_count": 16,
   "metadata": {},
   "outputs": [],
   "source": [
    "from sklearn.manifold import TSNE\n",
    "from sklearn.preprocessing import OrdinalEncoder, StandardScaler\n",
    "\n",
    "selected_columns = [\n",
    "    'BOROUGH', 'ZIP CODE', 'LATITUDE', 'LONGITUDE', \n",
    "    'CONTRIBUTING FACTOR', 'VEHICLE TYPE', 'MONTH', 'HOUR', \n",
    "    'WEEK_DAY', 'DAY', 'WEATHER', 'TOTAL_INJURIES', 'TOTAL_DEATHS'\n",
    "]\n",
    "\n",
    "df_selected = df[selected_columns].dropna().copy()\n",
    "\n",
    "categorical_cols = [\n",
    "    'BOROUGH', 'CONTRIBUTING FACTOR', 'VEHICLE TYPE', \n",
    "    'MONTH', 'WEEK_DAY', 'WEATHER'\n",
    "]\n",
    "\n",
    "for c in categorical_cols:\n",
    "    df_selected[c] = df_selected[c].astype(str)\n",
    "\n",
    "encoder = OrdinalEncoder()\n",
    "df_selected[categorical_cols] = encoder.fit_transform(df_selected[categorical_cols])\n",
    "\n",
    "\n",
    "scaler = StandardScaler()\n",
    "X_scaled = scaler.fit_transform(df_selected)\n",
    "\n",
    "# Apply t-SNE\n",
    "tsne = TSNE(n_components=2, perplexity=30, random_state=42)\n",
    "X_tsne = tsne.fit_transform(X_scaled)"
   ]
  },
  {
   "cell_type": "code",
   "execution_count": 50,
   "metadata": {},
   "outputs": [],
   "source": [
    "# Visualize t-sne results\n",
    "df_vis = pd.DataFrame(X_tsne, columns=['TSNE1', 'TSNE2'])\n",
    "\n",
    "df_vis = df_vis.join(df_selected.reset_index(drop=True))\n",
    "\n",
    "df_vis['index'] = df_vis.index.astype(str)\n",
    "\n",
    "tooltip_cols = ['index', 'BOROUGH', 'VEHICLE TYPE', 'WEATHER', 'TOTAL_INJURIES']\n",
    "\n",
    "chart = alt.Chart(df_vis).mark_circle(size=60).encode(\n",
    "    x=alt.X('TSNE1:Q', title='t-SNE Dim 1'),\n",
    "    y=alt.Y('TSNE2:Q', title='t-SNE Dim 2'),\n",
    "    color=alt.Color('BOROUGH:N', title='Borough'),\n",
    "    tooltip=tooltip_cols\n",
    ").properties(\n",
    "    width=600,\n",
    "    height=400,\n",
    "    title='Visualización t-SNE'\n",
    ").interactive()\n",
    "\n",
    "#chart"
   ]
  },
  {
   "cell_type": "markdown",
   "metadata": {},
   "source": [
    "T-sne results where not concluent, as no relation with original variables could be extracted. Hence, it is PCA that will be included in the final dashboard. (*The analog representation to the one done for PCA of colors linked to categories of different variables was conducted, yet it is not shown in this notebook as computations and results where quite heavy and little inside was extracted. However, we encourage the reader to do the analysis if interest)"
   ]
  },
  {
   "cell_type": "markdown",
   "metadata": {},
   "source": [
    "## ACCIDENTS MAP"
   ]
  },
  {
   "cell_type": "markdown",
   "metadata": {},
   "source": [
    "To effectively analyze the locations of accidents, we utilize a geospatial dot map that encodes the severity of each incident. Choropleth maps were excluded from our analysis due to their reliance on data aggregation, which can conceal critical information and reduce the granularity of the insights."
   ]
  },
  {
   "cell_type": "code",
   "execution_count": 51,
   "metadata": {},
   "outputs": [],
   "source": [
    "df['LATITUDE'] = pd.to_numeric(df['LATITUDE'], errors='coerce')\n",
    "df['LONGITUDE'] = pd.to_numeric(df['LONGITUDE'], errors='coerce')\n",
    "\n",
    "df = df.dropna(subset=['LATITUDE', 'LONGITUDE'])"
   ]
  },
  {
   "cell_type": "code",
   "execution_count": 52,
   "metadata": {},
   "outputs": [],
   "source": [
    "# GeoJSON url downloaded from GitHub\n",
    "raw_geojson_url = 'https://raw.githubusercontent.com/AlbaGrc/Traffic_Accidents_NYC/main/NYC_map.geojson'\n",
    "\n",
    "ny_city_map = alt.Data(\n",
    "    url=raw_geojson_url,\n",
    "    format=alt.DataFormat(property='features')\n",
    ")"
   ]
  },
  {
   "cell_type": "code",
   "execution_count": 53,
   "metadata": {},
   "outputs": [],
   "source": [
    "# Crear el mapa base\n",
    "nyc_base_map = alt.Chart(ny_city_map).mark_geoshape(\n",
    "    fill='lightgray', stroke='white', strokeWidth=1.3, opacity=0.4\n",
    ").encode(tooltip=alt.value(None))\n",
    "\n",
    "\n",
    "# Crear la capa de puntos de accidentes\n",
    "points = alt.Chart(df).mark_circle(size=30, color='red', opacity=0.6).encode(\n",
    "    longitude='LONGITUDE:Q',\n",
    "    latitude='LATITUDE:Q',\n",
    "    tooltip=['DATETIME:N', 'BOROUGH:N', 'ZIP CODE:N', 'NUMBER OF PERSONS INJURED:Q'],\n",
    ").add_params(\n",
    "    selection_month\n",
    ").transform_filter(\n",
    "    (alt.datum.MONTH == selection_month) | (selection_month == None)\n",
    ")\n",
    "\n",
    "# Habilitar zoom y paneo\n",
    "final_map = (nyc_base_map + points).properties(\n",
    "    width=800,\n",
    "    height=600\n",
    ").interactive()\n",
    "\n",
    "# Mostrar el mapa interactivo\n",
    "#final_map"
   ]
  },
  {
   "cell_type": "markdown",
   "metadata": {},
   "source": [
    "This first approach for the map is not bad, but observations' points are to big and color encodes no information. We are going to try encoding accidents severity through color and add an histogram for the count per borough"
   ]
  },
  {
   "cell_type": "code",
   "execution_count": 54,
   "metadata": {},
   "outputs": [],
   "source": [
    "nyc_base_map = alt.Chart(ny_city_map).mark_geoshape(\n",
    "    fill='lightgray', stroke='white', strokeWidth=1.3, opacity=0.4\n",
    ").encode(tooltip=alt.value(None))\n",
    "\n",
    "# Use severity color to differentiate points in three layers, one for each severity\n",
    "death_points = alt.Chart(df[df['SEVERITY'] == 'Death']).mark_circle(size=10, opacity=0.8).encode(\n",
    "    longitude='LONGITUDE:Q',\n",
    "    latitude='LATITUDE:Q',\n",
    "    color=alt.Color(\n",
    "        'SEVERITY:N',\n",
    "        scale=alt.Scale(\n",
    "            domain=['Death', 'Injury', 'No Damage'],\n",
    "            range=['red', 'orange', '#FFEB3B']\n",
    "        ),\n",
    "        legend=alt.Legend(title='Severity')\n",
    "    ),\n",
    "    tooltip=['DATETIME:N','BOROUGH:N','ZIP CODE:N','TOTAL_DEATHS:Q','TOTAL_INJURIES:Q'],\n",
    "    opacity=alt.condition(\n",
    "        selection_borough & selection_vehicle & selection_weather & selection_point,\n",
    "        alt.value(1), alt.value(0.1)\n",
    "    )\n",
    ").add_params(\n",
    "    selection_month\n",
    ").transform_filter(\n",
    "    (alt.datum.MONTH == selection_month) | (selection_month == None)\n",
    ")\n",
    "\n",
    "injury_points = alt.Chart(df[df['SEVERITY'] == 'Injury']).mark_circle(size=8, opacity=0.6).encode(\n",
    "    longitude='LONGITUDE:Q',\n",
    "    latitude='LATITUDE:Q',\n",
    "    color=alt.Color(\n",
    "        'SEVERITY:N',\n",
    "        scale=alt.Scale(\n",
    "            domain=['Death', 'Injury', 'No Damage'],\n",
    "            range=['red', 'orange', '#FFEB3B']\n",
    "        ),\n",
    "        legend=alt.Legend(title='Severity')\n",
    "    ),\n",
    "    tooltip=['DATETIME:N','BOROUGH:N','ZIP CODE:N','TOTAL_DEATHS:Q','TOTAL_INJURIES:Q'],\n",
    "    opacity=alt.condition(\n",
    "        selection_borough & selection_vehicle & selection_weather & selection_point,\n",
    "        alt.value(1), alt.value(0.1)\n",
    "    )\n",
    ").add_params(\n",
    "    selection_month\n",
    ").transform_filter(\n",
    "    (alt.datum.MONTH == selection_month) | (selection_month == None)\n",
    ")\n",
    "\n",
    "no_damage_points = alt.Chart(df[df['SEVERITY'] == 'No Damage']).mark_circle(size=6, opacity=0.6).encode(\n",
    "    longitude='LONGITUDE:Q',\n",
    "    latitude='LATITUDE:Q',\n",
    "    color=alt.Color(\n",
    "        'SEVERITY:N',\n",
    "        scale=alt.Scale(\n",
    "            domain=['Death', 'Injury', 'No Damage'],\n",
    "            range=['red', 'orange', '#FFEB3B']\n",
    "        ),\n",
    "        legend=alt.Legend(title='Severity')\n",
    "    ),\n",
    "    tooltip=['DATETIME:N','BOROUGH:N','ZIP CODE:N','TOTAL_DEATHS:Q','TOTAL_INJURIES:Q'],\n",
    "    opacity=alt.condition(\n",
    "        selection_borough & selection_vehicle & selection_weather & selection_point,\n",
    "        alt.value(1), alt.value(0.1)\n",
    "    )\n",
    ").add_params(\n",
    "    selection_month\n",
    ").transform_filter(\n",
    "    (alt.datum.MONTH == selection_month) | (selection_month == None)\n",
    ")\n",
    "\n",
    "# Mapa final: sumamos capas\n",
    "final_map = (\n",
    "    nyc_base_map + no_damage_points + injury_points + death_points\n",
    ").properties(\n",
    "    width=400,\n",
    "    height=400\n",
    ").interactive().add_params(\n",
    "    selection_month,\n",
    "    selection_borough,\n",
    "    selection_vehicle,\n",
    "    selection_weather,\n",
    "    selection_point\n",
    ")"
   ]
  },
  {
   "cell_type": "code",
   "execution_count": 55,
   "metadata": {},
   "outputs": [],
   "source": [
    "# Crear el histograma horizontal\n",
    "bar_chart = alt.Chart(df).mark_bar(size=35).encode(\n",
    "    x=alt.X('count():Q', title='Number of Accidents'),\n",
    "    y=alt.Y('BOROUGH:N', sort='-x', title='Borough'),\n",
    "    color=alt.condition(\n",
    "        selection_borough,\n",
    "        alt.value('steelblue'),\n",
    "        alt.value('lightgray')\n",
    "    ),\n",
    "    opacity=alt.condition(\n",
    "        selection_borough,\n",
    "        alt.value(1),\n",
    "        alt.value(0.3)\n",
    "    ),\n",
    "    tooltip=['BOROUGH:N', 'count():Q']\n",
    ").add_params(\n",
    "    selection_month,\n",
    "    selection_borough\n",
    ").transform_filter(\n",
    "    (alt.datum.MONTH == selection_month) | (selection_month == None)\n",
    ").properties(\n",
    "    width=300,\n",
    "    height=300\n",
    ")"
   ]
  },
  {
   "cell_type": "code",
   "execution_count": 56,
   "metadata": {},
   "outputs": [],
   "source": [
    "# Combinar mapa y histograma\n",
    "combined_chart = alt.hconcat(\n",
    "    final_map,\n",
    "    bar_chart\n",
    ").resolve_scale(\n",
    "    color='independent'\n",
    ").resolve_legend(\n",
    "    color='independent'\n",
    ")\n",
    "\n",
    "#combined_chart"
   ]
  },
  {
   "cell_type": "markdown",
   "metadata": {},
   "source": [
    "Now we can properly distribution of accidents through neighbourhoods and their severity."
   ]
  },
  {
   "cell_type": "markdown",
   "metadata": {},
   "source": [
    "## HOURS LINE CHART"
   ]
  },
  {
   "cell_type": "markdown",
   "metadata": {},
   "source": [
    "To analyze how accidents rate changes throughout a day, we are going to plot a line chart of day hours against accidents count"
   ]
  },
  {
   "cell_type": "code",
   "execution_count": 57,
   "metadata": {},
   "outputs": [],
   "source": [
    "# Line chart with hours on axis X and accidents count on axis Y\n",
    "hours_line_chart = alt.Chart(df).mark_line(point=True).encode(\n",
    "    x=alt.X('HOUR:O',\n",
    "            title='Hour of the day',\n",
    "            axis=alt.Axis(labelAngle=0)),\n",
    "    y=alt.Y('count():Q',\n",
    "            title='Accidents count'),\n",
    "    color=alt.condition(selection_point, alt.value('steelblue'), alt.value('lightgray')),\n",
    "    tooltip=['HOUR:O', 'count():Q']\n",
    ").transform_filter(\n",
    "    (alt.datum.MONTH == selection_month) | (selection_month == None)  \n",
    ").add_params(\n",
    "    selection_month, selection_point \n",
    ").properties(\n",
    "    width=600,\n",
    "    height=400\n",
    ")\n",
    "\n",
    "#hours_line_chart"
   ]
  },
  {
   "cell_type": "markdown",
   "metadata": {},
   "source": [
    "We can clearly see peak hours (16h) and lowest collision count hours (3h). Moreover day evolution is clearñy stated."
   ]
  },
  {
   "cell_type": "markdown",
   "metadata": {},
   "source": [
    "Now we are going to try to combine the days of the week with the total amount of accidents each day and see distributions using a scatterplot and a boxplot"
   ]
  },
  {
   "cell_type": "code",
   "execution_count": 58,
   "metadata": {},
   "outputs": [],
   "source": [
    "week_order = ['Monday', 'Tuesday', 'Wednesday', 'Thursday', 'Friday', 'Saturday', 'Sunday']\n",
    "df['WEEK_DAY'] = pd.Categorical(df['WEEK_DAY'], categories=week_order, ordered=True)\n",
    "\n",
    "# Boxplot\n",
    "boxplot = alt.Chart(df).mark_boxplot(extent='min-max').encode(\n",
    "    x=alt.X('WEEK_DAY:N', title='Day of the week'),\n",
    "    y=alt.Y('HOUR:Q', title='Hour of the day', scale=alt.Scale(domain=[0, 24]))\n",
    ")\n",
    "\n",
    "# Add individual obvservations\n",
    "points = alt.Chart(df).mark_circle(size=10, color='black', opacity=0.3).encode(\n",
    "    x=alt.X('WEEK_DAY:N'),\n",
    "    y=alt.Y('HOUR:Q'),\n",
    "    tooltip=['BOROUGH', 'HOUR', 'WEEK_DAY', 'CONTRIBUTING FACTOR']  # Detalles al pasar el ratón\n",
    ")\n",
    "\n",
    "# Combine boxplots and points\n",
    "chart_week_distribution1 = (boxplot + points).properties(\n",
    "    title='Accidents distribution throuhout the week',\n",
    "    width=700,\n",
    "    height=400\n",
    ")\n",
    "\n",
    "#chart_week_distribution1"
   ]
  },
  {
   "cell_type": "markdown",
   "metadata": {},
   "source": [
    "This chart does not appear to be very informative as variation of distribution among days is very little and we get no insight on the week accidents distribution. Therefore, this chart will be discarted to appear on the final visualization, as opposed to teh first one that proved very informative"
   ]
  },
  {
   "cell_type": "markdown",
   "metadata": {},
   "source": [
    "We are going to try plotting distributions for each day in order to find more information"
   ]
  },
  {
   "cell_type": "code",
   "execution_count": 59,
   "metadata": {},
   "outputs": [],
   "source": [
    "base = alt.Chart(df).transform_filter(\n",
    "    (alt.datum.MONTH == selection_month) | (selection_month == None) \n",
    ").transform_aggregate(\n",
    "    count='count()', \n",
    "    groupby=['WEEK_DAY', 'HOUR']  \n",
    ")\n",
    "\n",
    "\n",
    "line_chart = base.mark_area(opacity=0.7, interpolate='monotone').encode(\n",
    "    x=alt.X('HOUR:Q', title='Hora del día', scale=alt.Scale(domain=[0, 23])),\n",
    "    y=alt.Y('count:Q', title='Accidents'),\n",
    "    color=alt.Color('WEEK_DAY:N', legend=None),\n",
    "    row=alt.Row('WEEK_DAY:N', title='Día de la semana')\n",
    ")\n",
    "\n",
    "chart = line_chart.add_params(\n",
    "    selection_month \n",
    ").properties(\n",
    "    title=\"Accidents distribution throughout the week\",\n",
    "    width=500,\n",
    "    height=50 \n",
    ")\n",
    "\n",
    "#chart"
   ]
  },
  {
   "cell_type": "markdown",
   "metadata": {},
   "source": [
    "Now we can see better the distribution of accidents for each week day. However, the plot is to big to enhace it in the final visualization as we do not get much insight from this plot."
   ]
  },
  {
   "cell_type": "markdown",
   "metadata": {},
   "source": [
    "## HEATMAP CHART"
   ]
  },
  {
   "cell_type": "markdown",
   "metadata": {},
   "source": [
    "We are now going to see inspect distribution among months and days of the month."
   ]
  },
  {
   "cell_type": "code",
   "execution_count": 60,
   "metadata": {},
   "outputs": [],
   "source": [
    "df_filtered = df[df['MONTH'].isin(['June', 'July', 'August', 'September'])]\n",
    "\n",
    "month_histogram = alt.Chart(df_filtered).mark_bar().encode(\n",
    "    x=alt.X('MONTH:N', title='Month', sort=['June', 'July', 'August', 'September']),\n",
    "    y=alt.Y('count()', title='Total de crashes'),\n",
    "    tooltip=['count()']  \n",
    ").properties(\n",
    "    title='Total de crashes por Month',\n",
    "    width=600,\n",
    "    height=400\n",
    ")\n",
    "\n",
    "#month_histogram"
   ]
  },
  {
   "cell_type": "markdown",
   "metadata": {},
   "source": [
    "We see no big differences among months, so we will try another approach to get more information. We will try a heatmap so we can analyze distribution of accidents throught the months"
   ]
  },
  {
   "cell_type": "code",
   "execution_count": 61,
   "metadata": {},
   "outputs": [],
   "source": [
    "df['DAY'] = pd.to_numeric(df['DAY'], errors='coerce')\n",
    "df['MONTH'] = pd.Categorical(df['MONTH'], categories=['June', 'July', 'August', 'September'], ordered=True)\n",
    "\n",
    "# Select a day and month in specific\n",
    "selection_day_month = alt.selection_point(fields=['DAY', 'MONTH'], name='SelectDayMonth')\n",
    "\n",
    "base = alt.Chart(df).encode(\n",
    "    x=alt.X('DAY:O', title='Day', scale=alt.Scale(domain=np.arange(1, 32))),\n",
    "    y=alt.Y('MONTH:N', title='Month', scale=alt.Scale(domain=options_month)),\n",
    "    tooltip=['DAY:O', 'MONTH:N', 'count():Q']  # Tooltip\n",
    ").transform_filter(\n",
    "    (alt.datum.MONTH == selection_month) | (selection_month == None)  # Filter month\n",
    ").add_params(\n",
    "    selection_month\n",
    ")\n",
    "\n",
    "heatmap = base.mark_rect().encode(\n",
    "    color=alt.Color('count():Q', scale=alt.Scale(scheme='orangered'), title='Accidents Number', legend=None)\n",
    ")\n",
    "\n",
    "# Labels with count for each day\n",
    "labels = base.mark_text(baseline='middle', fontSize=9).encode(\n",
    "    text=alt.Text('count():Q'),\n",
    "    color=alt.value('black')\n",
    ")\n",
    "\n",
    "heatmap_chart = (heatmap + labels).properties(\n",
    "    width=700,  \n",
    "    height=140   \n",
    ")\n",
    "\n",
    "#heatmap_chart"
   ]
  },
  {
   "cell_type": "markdown",
   "metadata": {},
   "source": [
    "We can clearly see the casualties distribution thorughout the month and between months. We can also put our focus in one singular month by selecting it through the dropdown and analyze which day has the largest amount of accidents for each month or if there is some accidents concentration span of time"
   ]
  },
  {
   "cell_type": "markdown",
   "metadata": {},
   "source": [
    "## WEATHER CHART"
   ]
  },
  {
   "cell_type": "markdown",
   "metadata": {},
   "source": [
    "To analyze weather conditions, a straightforward way will be through an histogram"
   ]
  },
  {
   "cell_type": "code",
   "execution_count": 62,
   "metadata": {},
   "outputs": [],
   "source": [
    "base = alt.Chart(df).transform_filter(\n",
    "    (alt.datum.MONTH == selection_month) | (selection_month == None)\n",
    ").transform_aggregate(\n",
    "    count='count()',  \n",
    "    groupby=['WEATHER']  \n",
    ").transform_window(  \n",
    "    rank='rank(count)',\n",
    "    sort=[alt.SortField('count', order='descending')]\n",
    ").encode(\n",
    "    x=alt.X('WEATHER:N', title='Condición meteorológica', sort='-y', axis=alt.Axis(labelAngle=0)),  \n",
    "    y=alt.Y('count:Q', title='Número total de accidentes'),\n",
    "    tooltip=['WEATHER:N', 'count:Q']  \n",
    ")\n",
    "\n",
    "bars = base.mark_bar().encode(\n",
    "    color=alt.condition(selection_weather, alt.value('steelblue'), alt.value('lightgray')),\n",
    "    opacity=alt.condition(selection_weather, alt.value(1), alt.value(0.6)) \n",
    ")\n",
    "\n",
    "wea_chart = bars.add_params(\n",
    "    selection_month, selection_weather\n",
    ").properties(\n",
    "    title=\"Recuento de accidentes por condición meteorológica\",\n",
    "    width=300,\n",
    "    height=300\n",
    ")\n",
    "\n",
    "#wea_chart"
   ]
  },
  {
   "cell_type": "markdown",
   "metadata": {},
   "source": [
    "Insight is interesting but color could be used to encode more information. We are going to try analyzing severity of accidents through color, an adding emojis for an easier visual interpretation"
   ]
  },
  {
   "cell_type": "code",
   "execution_count": 63,
   "metadata": {},
   "outputs": [],
   "source": [
    "weather_icon_to_emoji = {\n",
    "    'rain': '🌧️',\n",
    "    'clear-day': '☀️',\n",
    "    'partly-cloudy-day': '⛅',\n",
    "    'cloudy': '☁️'\n",
    "}\n",
    "\n",
    "df['WEATHER_EMOJI'] = df['WEATHER'].map(weather_icon_to_emoji)\n",
    "\n",
    "base = alt.Chart(df).transform_filter(\n",
    "    (alt.datum.MONTH == selection_month) | (selection_month == None)\n",
    ").transform_aggregate(\n",
    "    count='count()',\n",
    "    groupby=[\n",
    "        'MONTH', 'WEEK_DAY', 'BOROUGH', 'VEHICLE TYPE', 'HOUR',\n",
    "        'WEATHER', 'DAY', 'SEVERITY', 'WEATHER_EMOJI'\n",
    "    ]\n",
    ").encode(\n",
    "    x=alt.X('WEATHER:N', title='Weather condition', sort='-y', axis=alt.Axis(labelAngle=0)),\n",
    "    y=alt.Y('sum(count):Q', title='Accidents count'),\n",
    "    color=alt.Color(\n",
    "        'SEVERITY:N',\n",
    "        scale=alt.Scale(\n",
    "            domain=['No Damage', 'Injury', 'Death'],\n",
    "            range=['#FFEB3B', 'orange', 'red']\n",
    "        ),\n",
    "        legend=None\n",
    "    ),\n",
    "    tooltip=['WEATHER:N', 'SEVERITY:N', 'sum(count):Q']\n",
    ")\n",
    "\n",
    "bars = base.mark_bar().encode(\n",
    "    opacity=alt.condition(selection_weather, alt.value(1), alt.value(0.6))\n",
    ")\n",
    "\n",
    "emojis = base.mark_text(\n",
    "    align='center', baseline='bottom', dy=-40, size=20\n",
    ").transform_filter(\n",
    "    alt.datum.SEVERITY == 'No Damage'  # Solo un emoji por barra\n",
    ").encode(\n",
    "    text='WEATHER_EMOJI:N'\n",
    ")\n",
    "\n",
    "weather_chart = alt.layer(\n",
    "    bars, emojis\n",
    ").add_params(\n",
    "    selection_month, selection_weather\n",
    ").properties(\n",
    "    width=300,\n",
    "    height=400\n",
    ")\n",
    "\n",
    "# Mostrar el gráfico\n",
    "#weather_chart"
   ]
  },
  {
   "cell_type": "markdown",
   "metadata": {},
   "source": [
    "## VEHICLE TYPE"
   ]
  },
  {
   "cell_type": "markdown",
   "metadata": {},
   "source": [
    "We first try an histogram for encoding accumulation of vehicle accidents."
   ]
  },
  {
   "cell_type": "code",
   "execution_count": 64,
   "metadata": {},
   "outputs": [],
   "source": [
    "# Selección interactiva para VEHICLE TYPE y WEATHER\n",
    "selection_vehicle = alt.selection_point(fields=['VEHICLE TYPE'], name='SelectVehicle')\n",
    "selection_weather = alt.selection_point(fields=['WEATHER'], name='SelectWeather')\n",
    "\n",
    "# Base del histograma\n",
    "base = alt.Chart(df).transform_filter(\n",
    "    (alt.datum.MONTH == selection_month) | (selection_month == None)  # Filtrar por mes seleccionado\n",
    ").transform_aggregate(\n",
    "    count='count()',\n",
    "    groupby=['VEHICLE TYPE', 'WEATHER']  # Agrupar por tipo de vehículo y condición meteorológica\n",
    ").encode(\n",
    "    x=alt.X('VEHICLE TYPE:N', title='Tipo de vehículo', axis=alt.Axis(labelAngle=0)),\n",
    "    y=alt.Y('count:Q', title='Número total de accidentes'),\n",
    "    tooltip=['VEHICLE TYPE:N', 'WEATHER:N', 'count:Q']\n",
    ")\n",
    "\n",
    "# Histograma con barras apiladas y resaltado interactivo\n",
    "histogram_vehicles = base.mark_bar(opacity=0.8).encode(\n",
    "    opacity=alt.condition(selection_vehicle | selection_weather, alt.value(1), alt.value(0.4))\n",
    ").add_params(\n",
    "    selection_month, selection_vehicle, selection_weather\n",
    ")\n",
    "\n",
    "# Combinar con títulos y dimensiones\n",
    "vehicle_chart = histogram_vehicles.properties(\n",
    "    title=\"Distribución de accidentes por tipo de vehículo y condición meteorológica\",\n",
    "    width=700,\n",
    "    height=400\n",
    ")\n",
    "\n",
    "#vehicle_chart"
   ]
  },
  {
   "cell_type": "markdown",
   "metadata": {},
   "source": [
    "We can see a big difference among classes, which makes it difficult to analyze. We will try to plot instead contributing factors and encode with colors each vehicle type"
   ]
  },
  {
   "cell_type": "code",
   "execution_count": 65,
   "metadata": {},
   "outputs": [],
   "source": [
    "histogram = (\n",
    "    alt.Chart(df)\n",
    "    .mark_bar()\n",
    "    .encode(\n",
    "        y=alt.Y('CONTRIBUTING FACTOR:N', sort='-x', axis=alt.Axis(title=None)),\n",
    "        x=alt.X('count()', title='Accidents count'),\n",
    "        color=alt.Color(\n",
    "            'VEHICLE TYPE:N', \n",
    "            title='Vehicle Type',\n",
    "            scale=alt.Scale(scheme='tableau10')),\n",
    "        tooltip=['VEHICLE TYPE', 'count()']\n",
    "    )\n",
    "    .transform_filter(\n",
    "        (alt.datum.MONTH == selection_month) | (selection_month == None)\n",
    "    )\n",
    "    .add_params(selection_month)\n",
    "    .add_params(selection_vehicle)\n",
    "    .encode(\n",
    "        opacity=alt.condition(selection_vehicle, alt.value(1), alt.value(0.3))\n",
    "    )\n",
    "    .properties(\n",
    "        title='Contributing factors',\n",
    "        width=600,\n",
    "        height=400\n",
    "    )\n",
    ")\n",
    "\n",
    "#histogram"
   ]
  },
  {
   "cell_type": "markdown",
   "metadata": {},
   "source": [
    "Still vehicle types difference is quite remarkable but with colors we have a better image of their distribution, as well as relation with contributing factors. As per the last, we can clearly see differences between the most common contributing factor, Improper driving and traffic rule violation, as opposed to the least which includes uncontrolled vehicles."
   ]
  },
  {
   "cell_type": "markdown",
   "metadata": {},
   "source": [
    "## CHARTS COMBINATION"
   ]
  },
  {
   "cell_type": "markdown",
   "metadata": {},
   "source": [
    "Now we want to join selected charts in a final visualizations dashboard, including interactions among charts"
   ]
  },
  {
   "cell_type": "code",
   "execution_count": 66,
   "metadata": {},
   "outputs": [],
   "source": [
    "# Interactions\n",
    "bar_chart = bar_chart.transform_filter(selection_vehicle & selection_borough & selection_weather & selection_point)\n",
    "histogram = histogram.transform_filter(selection_vehicle & selection_borough & selection_weather & selection_point)\n",
    "weather_chart = weather_chart.transform_filter(selection_vehicle & selection_borough & selection_weather & selection_point)\n",
    "hours_line_chart = hours_line_chart.transform_filter(selection_vehicle & selection_borough  & selection_weather & selection_point)\n",
    "heatmap_chart = heatmap_chart.transform_filter(selection_vehicle & selection_borough & selection_weather & selection_point)\n",
    "\n",
    "# Combine the charts into the final layout\n",
    "final_dashboard = alt.vconcat(\n",
    "    alt.hconcat(final_map, bar_chart, histogram, spacing=10).resolve_scale(color='independent'),\n",
    "    alt.hconcat(biplot, weather_chart, hours_line_chart, spacing=10).resolve_scale(color='independent'),\n",
    "    alt.hconcat(heatmap_chart, spacing=10).resolve_scale(color='independent'),\n",
    "    title=\"Traffic Accidents Dashboard - NYC\"\n",
    ").resolve_scale(\n",
    "    color='independent',\n",
    "    opacity='independent'\n",
    ").configure_title(anchor='start')"
   ]
  },
  {
   "cell_type": "code",
   "execution_count": 69,
   "metadata": {},
   "outputs": [],
   "source": [
    "# Display the dashboard\n",
    "#final_dashboard"
   ]
  },
  {
   "cell_type": "code",
   "execution_count": 68,
   "metadata": {},
   "outputs": [],
   "source": [
    "final_dashboard.save('traffic_accidents_dashboard.html')"
   ]
  }
 ],
 "metadata": {
  "kernelspec": {
   "display_name": "Python 3",
   "language": "python",
   "name": "python3"
  },
  "language_info": {
   "codemirror_mode": {
    "name": "ipython",
    "version": 3
   },
   "file_extension": ".py",
   "mimetype": "text/x-python",
   "name": "python",
   "nbconvert_exporter": "python",
   "pygments_lexer": "ipython3",
   "version": "3.12.0"
  }
 },
 "nbformat": 4,
 "nbformat_minor": 2
}
